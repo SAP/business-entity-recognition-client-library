{
 "cells": [
  {
   "cell_type": "markdown",
   "metadata": {},
   "source": [
    "# Business Entity Recognition Demo\n",
    "\n",
    "This notebook is designed to demonstrate how easy it is to use the SAP AI Business Services - Business Entity Recognition service for classification tasks. In this demo, we will do inference for a plain text using a pretrained model.\n",
    "\n",
    "For the demo, we prepared this Jupyter Notebook which demonstrates the use of this client library to invoke the most important functions of the Business Entity Recognition REST API. "
   ]
  },
  {
   "cell_type": "markdown",
   "metadata": {},
   "source": [
    "## Settings\n",
    "\n",
    "The settings under `Environment specific configuration` require a valid service key for the Business Entity Recognition service on SAP Cloud Plattform.\n",
    "\n",
    "The keys in the service key needed here are named exactly as the variables, specifically:\n",
    "- url: The URL of the service deployment provided in the outermost hierachy of the service key json file\n",
    "- uaa_url: The URL of the UAA server used for authentication provided in the __uaa__ of the service key json file\n",
    "- uaa_clientid: The clientid used for authentication to the UAA server provided in the __uaa__ of the service key json file\n",
    "- uaa_clientsecret: The clientsecret used for authentication to the UAA server provided in the __uaa__ of the service key json file\n"
   ]
  },
  {
   "cell_type": "markdown",
   "metadata": {},
   "source": [
    "# Environment specific configuration\n",
    "url = \"\"\n",
    "uaa_url = \"\"\n",
    "uaa_clientid = \"\"\n",
    "uaa_clientsecret = \"\"\n"
   ]
  },
  {
   "cell_type": "code",
   "execution_count": null,
   "metadata": {},
   "outputs": [],
   "source": [
    "# update working directory path\n",
    "\n",
    "import os\n",
    "\n",
    "os.chdir('../')\n",
    "\n",
    "print(os.getcwd())\n",
    "\n",
    "import pathlib\n",
    "pathlib.Path().absolute()"
   ]
  },
  {
   "cell_type": "code",
   "execution_count": null,
   "metadata": {},
   "outputs": [],
   "source": [
    "from sap_ber_client import ber_api_client\n",
    "from pprint import pprint"
   ]
  },
  {
   "cell_type": "code",
   "execution_count": null,
   "metadata": {},
   "outputs": [],
   "source": [
    "import importlib\n",
    "importlib.reload(ber_api_client)"
   ]
  },
  {
   "cell_type": "code",
   "execution_count": null,
   "metadata": {},
   "outputs": [],
   "source": [
    "import json\n",
    "config_file = os.getcwd() + '/examples/config.json'\n",
    "with open(config_file, 'rb') as config:\n",
    "    config_json = json.load(config)\n",
    "    config.close()\n",
    "    \n",
    "config_json"
   ]
  },
  {
   "cell_type": "code",
   "execution_count": null,
   "metadata": {},
   "outputs": [],
   "source": [
    "# Instaniate object used to communicate with DC REST API\n",
    "\n",
    "url = config_json['url']\n",
    "uaa_clientid = config_json['uaa']['clientid']\n",
    "uaa_clientsecret = config_json['uaa']['clientsecret']\n",
    "uaa_url = config_json['uaa']['url']\n",
    "\n",
    "my_ber_client = ber_api_client.BER_API_Client(url, uaa_clientid, uaa_clientsecret, uaa_url)\n",
    "\n",
    "print(my_ber_client.base_url)"
   ]
  },
  {
   "cell_type": "markdown",
   "metadata": {},
   "source": [
    "## Display access token"
   ]
  },
  {
   "cell_type": "code",
   "execution_count": null,
   "metadata": {},
   "outputs": [],
   "source": [
    "# Token can be used to interact with e.g. swagger UI to explore BER API\n",
    "print(my_ber_client.session.headers)\n",
    "print(\"\\nYou can use this token to Authorize here and explore the API via Swagger UI: \\n{}api/v1/\".format(url))"
   ]
  },
  {
   "cell_type": "markdown",
   "metadata": {},
   "source": [
    "## Inference\n"
   ]
  },
  {
   "cell_type": "code",
   "execution_count": null,
   "metadata": {},
   "outputs": [],
   "source": [
    "# post inference job\n",
    "\n",
    "#predefined model details as below\n",
    "model_name = \"sap_email_business_entity\"\n",
    "model_version = 1\n",
    "\n",
    "\n",
    "text = 'Hello, I would like to know the status of the invoice 456789. Regards, John'\n",
    "response = my_ber_client.post_inference_job(text, model_name, model_version)\n",
    "pprint(response.json())\n",
    "inference_jobid = response.json()[\"data\"][\"id\"]"
   ]
  },
  {
   "cell_type": "code",
   "execution_count": null,
   "metadata": {},
   "outputs": [],
   "source": [
    "#Get inference result\n",
    "response = my_ber_client.get_inference_job(inference_jobid)\n",
    "pprint(response.json())"
   ]
  },
  {
   "cell_type": "markdown",
   "metadata": {},
   "source": [
    "## Batch Inference"
   ]
  },
  {
   "cell_type": "code",
   "execution_count": null,
   "metadata": {
    "pycharm": {
     "name": "#%%\n"
    }
   },
   "outputs": [],
   "source": [
    "# Create Inference dataset\n",
    "response = my_ber_client.create_dataset(\"inference\")\n",
    "pprint(response.json())\n",
    "inference_dataset_id = response.json()[\"data\"][\"datasetId\"]\n",
    "print(inference_dataset_id)\n",
    "inference_dataset_folder = os.getcwd() + '/examples/data/batch_inference.json'\n",
    "print(\"Uploading inference documents to the dataset\")\n",
    "response = my_ber_client.upload_document_to_dataset(inference_dataset_id, inference_dataset_folder)\n",
    "print(\"Finished uploading inference documents to the dataset\")\n",
    "pprint(response.json())\n",
    "\n",
    "# post batch inference job\n",
    "response = my_ber_client.post_batch_inference_job(inference_dataset_id, model_name, model_version)\n",
    "pprint(response.json())\n",
    "batch_inference_job_id = response.json()[\"data\"][\"id\"]\n"
   ]
  },
  {
   "cell_type": "code",
   "execution_count": null,
   "metadata": {},
   "outputs": [],
   "source": [
    "#Get inference result\n",
    "response = my_ber_client.get_inference_job(batch_inference_job_id)\n",
    "pprint(response.json())\n",
    "\n",
    "#get inference batch job result\n",
    "response = my_ber_client.get_batch_inference_job_result(batch_inference_job_id)\n",
    "\n",
    "pprint(response.json())"
   ]
  },
  {
   "cell_type": "code",
   "execution_count": null,
   "metadata": {},
   "outputs": [],
   "source": []
  }
 ],
 "metadata": {
  "kernelspec": {
   "display_name": "Python 3",
   "language": "python",
   "name": "python3"
  },
  "language_info": {
   "codemirror_mode": {
    "name": "ipython",
    "version": 3
   },
   "file_extension": ".py",
   "mimetype": "text/x-python",
   "name": "python",
   "nbconvert_exporter": "python",
   "pygments_lexer": "ipython3",
   "version": "3.6.8"
  }
 },
 "nbformat": 4,
 "nbformat_minor": 4
}
